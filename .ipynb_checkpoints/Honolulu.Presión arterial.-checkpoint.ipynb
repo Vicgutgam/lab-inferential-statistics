{
 "cells": [
  {
   "cell_type": "markdown",
   "id": "bef9c7d2",
   "metadata": {},
   "source": [
    "***PREPARAMOS LAS HERRAMIENTAS QUE PUEDE QUE UTILICEMOS***"
   ]
  },
  {
   "cell_type": "code",
   "execution_count": 5,
   "id": "574287ba",
   "metadata": {},
   "outputs": [],
   "source": [
    "import matplotlib.pyplot as plt\n",
    "import pandas as pd\n",
    "import numpy as np\n",
    "import seaborn as sns\n",
    "import scipy.stats as st #nos ayuda para obtener el intervalo de confianza\n",
    "from math import sqrt"
   ]
  },
  {
   "cell_type": "markdown",
   "id": "e13b6f63",
   "metadata": {},
   "source": [
    "***Planteamiento de la hipótesis:***\n",
    "\n",
    "Con los datos que tenemos actualmente, podemos pensar que la media de Honolulu, puede estar dentro del rango de confianza de la media general. Es decir:\n",
    "\n",
    "H0:μ=120 \n",
    "\n",
    "Por contraposición surge la Hipótesis que se enfrenta a dicha Hipótesis que dice que:\n",
    "\n",
    "H1:μ≠120H1"
   ]
  },
  {
   "cell_type": "markdown",
   "id": "9f22d1a8",
   "metadata": {},
   "source": [
    "***Organizamos los datos que nos ha aportado el enunciado***"
   ]
  },
  {
   "cell_type": "code",
   "execution_count": 9,
   "id": "561e6a23",
   "metadata": {},
   "outputs": [],
   "source": [
    "n = 100 # la muestra de la población.\n",
    "pmean = 120 #presión media general.\n",
    "pmh = 130.1 #presión media en Honolulu.\n",
    "desvi = 21.21 #desviación estandar de la presión de Honolulu.\n",
    "alfa = 0.95 #nuestro nivel de confianza sobre la H0.\n",
    "nivel_de_significancia = 0.05 #es la contraposición al nivel de confianza.\n",
    "test_statistic  = 4.76190"
   ]
  },
  {
   "cell_type": "markdown",
   "id": "e45e4269",
   "metadata": {},
   "source": [
    "***Aplicación de la fórmula de forma manual***"
   ]
  },
  {
   "cell_type": "code",
   "execution_count": 10,
   "id": "660b29be",
   "metadata": {},
   "outputs": [
    {
     "data": {
      "text/plain": [
       "4.761904761904759"
      ]
     },
     "execution_count": 10,
     "metadata": {},
     "output_type": "execute_result"
    }
   ],
   "source": [
    "z = (pmh - pmean) / (desvi / np.sqrt(n))\n",
    "z"
   ]
  },
  {
   "cell_type": "markdown",
   "id": "a5fb2066",
   "metadata": {},
   "source": [
    "***Aplicación del sistema por Python***"
   ]
  },
  {
   "cell_type": "code",
   "execution_count": 17,
   "id": "49f076af",
   "metadata": {},
   "outputs": [
    {
     "data": {
      "text/plain": [
       "nan"
      ]
     },
     "execution_count": 17,
     "metadata": {},
     "output_type": "execute_result"
    }
   ],
   "source": [
    "from scipy.stats import ttest_1samp\n",
    "_, p_value = st.ttest_1samp(pmh, pmean)\n",
    "\n",
    "p_value"
   ]
  },
  {
   "cell_type": "code",
   "execution_count": null,
   "id": "6ba5a140",
   "metadata": {},
   "outputs": [],
   "source": []
  }
 ],
 "metadata": {
  "kernelspec": {
   "display_name": "Python 3 (ipykernel)",
   "language": "python",
   "name": "python3"
  },
  "language_info": {
   "codemirror_mode": {
    "name": "ipython",
    "version": 3
   },
   "file_extension": ".py",
   "mimetype": "text/x-python",
   "name": "python",
   "nbconvert_exporter": "python",
   "pygments_lexer": "ipython3",
   "version": "3.11.5"
  }
 },
 "nbformat": 4,
 "nbformat_minor": 5
}
